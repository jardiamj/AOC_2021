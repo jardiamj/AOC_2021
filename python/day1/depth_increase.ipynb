{
 "cells": [
  {
   "cell_type": "code",
   "execution_count": 1,
   "metadata": {},
   "outputs": [],
   "source": [
    "def get_measurements(file_path):\n",
    "    measurements = []\n",
    "    with open(file_path) as f:\n",
    "        for line in f.readlines():\n",
    "            measurements.append(int(line.rstrip('\\n')))\n",
    "    return measurements"
   ]
  },
  {
   "cell_type": "code",
   "execution_count": 2,
   "metadata": {},
   "outputs": [
    {
     "name": "stdout",
     "output_type": "stream",
     "text": [
      "Advent of Code day 1. Measurements larger than previous: 1390\n"
     ]
    }
   ],
   "source": [
    "def depth_increase(file_path):\n",
    "    increased = 0\n",
    "    prev = -1\n",
    "    measurements = get_measurements(file_path)\n",
    "    for meas in measurements:\n",
    "        if prev > -1 and meas > prev:\n",
    "            increased += 1\n",
    "            prev = meas\n",
    "        else:\n",
    "            prev = meas\n",
    "    return increased\n",
    "\n",
    "print('Advent of Code day 1. Measurements larger than previous:',\n",
    "       depth_increase('input.txt'))"
   ]
  },
  {
   "cell_type": "code",
   "execution_count": 3,
   "metadata": {},
   "outputs": [
    {
     "name": "stdout",
     "output_type": "stream",
     "text": [
      "Advent of Code day 1. Sliding window larger than previous: 1457\n"
     ]
    }
   ],
   "source": [
    "def sliding_window_increase(file_path):\n",
    "    increased = 0\n",
    "    measurements = get_measurements(file_path)\n",
    "    prev_sum = sum(measurements[:3])\n",
    "    for i in range(1, len(measurements) - 2):\n",
    "        # print(measurements[i:i+3])\n",
    "        cur_sum = sum(measurements[i:i+3])\n",
    "        if cur_sum > prev_sum:\n",
    "            increased += 1\n",
    "            prev_sum = cur_sum\n",
    "        else:\n",
    "            prev_sum = cur_sum\n",
    "    return increased\n",
    "\n",
    "print('Advent of Code day 1. Sliding window larger than previous:',\n",
    "sliding_window_increase('input.txt'))\n"
   ]
  },
  {
   "cell_type": "code",
   "execution_count": null,
   "metadata": {},
   "outputs": [],
   "source": []
  }
 ],
 "metadata": {
  "interpreter": {
   "hash": "916dbcbb3f70747c44a77c7bcd40155683ae19c65e1c03b4aa3499c5328201f1"
  },
  "kernelspec": {
   "display_name": "Python 3.9.5 64-bit",
   "language": "python",
   "name": "python3"
  },
  "language_info": {
   "codemirror_mode": {
    "name": "ipython",
    "version": 3
   },
   "file_extension": ".py",
   "mimetype": "text/x-python",
   "name": "python",
   "nbconvert_exporter": "python",
   "pygments_lexer": "ipython3",
   "version": "3.9.5"
  },
  "orig_nbformat": 4
 },
 "nbformat": 4,
 "nbformat_minor": 2
}
